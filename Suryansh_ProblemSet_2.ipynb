{
 "cells": [
  {
   "cell_type": "markdown",
   "id": "2c6df0a7",
   "metadata": {},
   "source": [
    "## Problem Set 2"
   ]
  },
  {
   "cell_type": "markdown",
   "id": "289fd918",
   "metadata": {},
   "source": [
    "# Question 1"
   ]
  },
  {
   "cell_type": "code",
   "execution_count": 8,
   "id": "345efb37",
   "metadata": {},
   "outputs": [
    {
     "name": "stdout",
     "output_type": "stream",
     "text": [
      "latest value of a =  6\n"
     ]
    }
   ],
   "source": [
    "a = 0\n",
    "\n",
    "#define the global variable a \n",
    "def b():\n",
    "    global a \n",
    "    a = c(a)\n",
    "    \n",
    "def c(a):\n",
    "    return a + 2\n",
    "\n",
    "#calling the function multiple times will increment the value of a by 2\n",
    "b()\n",
    "b()\n",
    "b()\n",
    "print(\"Updated value of a = \",a)"
   ]
  },
  {
   "cell_type": "markdown",
   "id": "5a05e21b",
   "metadata": {},
   "source": [
    "# Question 2"
   ]
  },
  {
   "cell_type": "code",
   "execution_count": 25,
   "id": "80d84c4a",
   "metadata": {},
   "outputs": [
    {
     "name": "stdout",
     "output_type": "stream",
     "text": [
      "File C:/Users/16476/Desktop/hello.txt is present\n",
      "\n",
      "Length of file is  76\n",
      "File Any_random_file.py not found.\n"
     ]
    }
   ],
   "source": [
    "def fileLength(file_name):\n",
    "\n",
    "    try:\n",
    "        with open(file_name) as file_obj:\n",
    "            file_data = file_obj.read()\n",
    "\n",
    "        print(\"File \" + file_name + \" is present\")\n",
    "        print(\"\\nLength of file is \", len(file_data))\n",
    "        \n",
    "    except FileNotFoundError:\n",
    "        print(\"File \" + file_name + \" not found.\")\n",
    "\n",
    "fileLength(\"C:/Users/16476/Desktop/hello.txt\")\n",
    "fileLength(\"Any_random_file.py\")"
   ]
  },
  {
   "cell_type": "markdown",
   "id": "a08baeda",
   "metadata": {},
   "source": [
    "# Question 3"
   ]
  },
  {
   "cell_type": "code",
   "execution_count": 29,
   "id": "a94543f0",
   "metadata": {},
   "outputs": [
    {
     "name": "stdout",
     "output_type": "stream",
     "text": [
      "class Marsupial contains : ['doll', 'firetruck', 'kitten'] \n",
      "\n",
      "I am a Kangaroo located at the coordinates (0,0)\n",
      "\n",
      "subclass kangaroo contains :  ['doll', 'firetruck', 'kitten', 'doll', 'firetruck', 'kitten'] \n",
      "\n",
      "I am a Kangaroo located at the coordinates (3,0)\n",
      "\n"
     ]
    }
   ],
   "source": [
    "class Marsupial:\n",
    "    \n",
    "    lst=[]\n",
    "    def init(self):\n",
    "        self.lst = []\n",
    "        \n",
    "    def put_in_pouch(self, item):\n",
    "        self.lst.append(item)\n",
    "        \n",
    "    def pouch_contents(self):\n",
    "        return self.lst\n",
    "\n",
    "\n",
    "\n",
    "class Kangaroo(Marsupial):\n",
    "\n",
    "    def __init__(self,x,y): \n",
    "        Marsupial.__init__(self)\n",
    "        self.x = x\n",
    "        self.y = y\n",
    "\n",
    "    def jump(self,dx,dy):\n",
    "        self.x += dx\n",
    "        self.y += dy\n",
    "\n",
    "\n",
    "    def __str__(self):\n",
    "        return 'I am a Kangaroo located at the coordinates ({},{})'.format(self.x,self.y)+'\\n'\n",
    "\n",
    "\n",
    "\n",
    "m = Marsupial()\n",
    "m.put_in_pouch('doll')\n",
    "m.put_in_pouch('firetruck')\n",
    "m.put_in_pouch('kitten')\n",
    "print(\"class Marsupial contains :\",m.pouch_contents(),\"\\n\")\n",
    "\n",
    "\n",
    "\n",
    "k = Kangaroo(0,0)\n",
    "print(k)\n",
    "k.put_in_pouch('doll')\n",
    "k.put_in_pouch('firetruck')\n",
    "k.put_in_pouch('kitten')\n",
    "print(\"subclass kangaroo contains : \",k.pouch_contents(),\"\\n\")\n",
    "k.jump(1,0)\n",
    "k.jump(1,0)\n",
    "k.jump(1,0)\n",
    "print(k)\n",
    "\n"
   ]
  },
  {
   "cell_type": "markdown",
   "id": "279ef2cb",
   "metadata": {},
   "source": [
    "# Question 4"
   ]
  },
  {
   "cell_type": "code",
   "execution_count": 34,
   "id": "868aebeb",
   "metadata": {},
   "outputs": [
    {
     "name": "stdout",
     "output_type": "stream",
     "text": [
      "Enter a positive interger: 20\n",
      "20\n",
      "10\n",
      "5\n",
      "16\n",
      "8\n",
      "4\n",
      "2\n",
      "1\n"
     ]
    }
   ],
   "source": [
    "def collatz(x):\n",
    "    print(x)\n",
    "    if x==1:\n",
    "        return\n",
    "    elif x%2==0:\n",
    "        return collatz(x//2)  \n",
    "    else:\n",
    "        return collatz((x*3)+1)\n",
    "\n",
    "x=int(input(\"Enter a positive interger: \"))\n",
    "collatz(x)"
   ]
  },
  {
   "cell_type": "markdown",
   "id": "dd3e4593",
   "metadata": {},
   "source": [
    "# Question 5"
   ]
  },
  {
   "cell_type": "code",
   "execution_count": 36,
   "id": "693a17a8",
   "metadata": {},
   "outputs": [
    {
     "name": "stdout",
     "output_type": "stream",
     "text": [
      "Enter a Positive Integer : 10\n",
      "Binary Representation is  1010\n"
     ]
    }
   ],
   "source": [
    "def binary( n ):\n",
    "    if n == 0:\n",
    "        return 0\n",
    "    else:\n",
    "       \n",
    "        return  n % 2 + 10 * binary(int(n // 2))\n",
    "\n",
    "n = int(input(\"Enter a Positive Integer : \"))\n",
    "print(\"Binary Representation is \",binary(n))"
   ]
  },
  {
   "cell_type": "markdown",
   "id": "3322fe93",
   "metadata": {},
   "source": [
    "# Question 6"
   ]
  },
  {
   "cell_type": "code",
   "execution_count": 39,
   "id": "840d4a8f",
   "metadata": {},
   "outputs": [
    {
     "name": "stdout",
     "output_type": "stream",
     "text": [
      "W3C Mission\n",
      "\n",
      "\t\n",
      " Principles\n",
      " \n",
      " \n",
      "\n",
      "\n",
      "\n",
      " \n",
      "\n"
     ]
    }
   ],
   "source": [
    "import re\n",
    "from html.parser import HTMLParser\n",
    "infile = open('C:\\\\Users\\\\16476\\\\Desktop\\\\Georgian\\\\w3c.html') \n",
    "content = infile.read() \n",
    "infile.close()\n",
    "\n",
    "class HeadingParser(HTMLParser):\n",
    "    def handle_starttag(self, tag, attrs):\n",
    "        global getHeading\n",
    "        match = re.match(r'h(\\d)', tag, re.I) \n",
    "        if match: getHeading = int(match.group(1))\n",
    "            \n",
    "    def handle_endtag(self, tag):\n",
    "        match = re.match(r'h(\\d)', tag, re.I)\n",
    "        if match: getHeading = 0\n",
    "\n",
    "    def handle_data(self, data):\n",
    "        if getHeading > 0:\n",
    "            tab = getHeading - 1\n",
    "            out = \" \"*tab\n",
    "            print(out+data)\n",
    "            \n",
    "getHeading = 0\n",
    "hp = HeadingParser()\n",
    "hp.feed(content)"
   ]
  },
  {
   "cell_type": "markdown",
   "id": "28c0d250",
   "metadata": {},
   "source": [
    "# Question 7"
   ]
  },
  {
   "cell_type": "code",
   "execution_count": 52,
   "id": "67e52714",
   "metadata": {},
   "outputs": [
    {
     "name": "stdout",
     "output_type": "stream",
     "text": [
      "http://reed.cs.depaul.edu/lperkovic/test1.html\n",
      "http://reed.cs.depaul.edu/lperkovic/test2.html\n"
     ]
    }
   ],
   "source": [
    "import requests\n",
    "from bs4 import BeautifulSoup   \n",
    "\n",
    "def webdir(url, depth, indent):\n",
    "    response = requests.get(url)\n",
    "    print(url)\n",
    "    if(depth == indent):\n",
    "        return\n",
    "    data = BeautifulSoup(response.text, 'html.parser')  \n",
    "    for i in data.find_all('a'):\n",
    "        new_link = i.get('href')\n",
    "        if(new_link.startswith('http')):\n",
    "            webdir(new_link, depth, indent+1)\n",
    "\n",
    "webdir('http://reed.cs.depaul.edu/lperkovic/test1.html', 2, 0)"
   ]
  },
  {
   "cell_type": "markdown",
   "id": "eeb8728a",
   "metadata": {},
   "source": [
    "# Question 8"
   ]
  },
  {
   "cell_type": "code",
   "execution_count": 9,
   "id": "6d7bd6da",
   "metadata": {},
   "outputs": [
    {
     "name": "stdout",
     "output_type": "stream",
     "text": [
      "(24.8,)(28.4,)(27.9,)(27.6,)(4.2,)(8.3,)(15.7,)(10.4,)(13.6,)(20.7,)(27.7,)(22.2,)\n",
      "('Mumbai',)('London',)('Cairo',)\n",
      "('Mumbai', 'India', 'Winter', 24.8, 5.9)('Mumbai', 'India', 'Spring', 28.4, 16.2)('Mumbai', 'India', 'Summer', 27.9, 1549.4)('Mumbai', 'India', 'Fall', 27.6, 346)\n",
      "('Mumbai', 'India', 'Fall', 27.6, 346)('London', 'United Kingdom', 'Fall', 10.4, 218.5)('Cairo', 'Egypt', 'Fall', 22.2, 4.5)\n",
      "('Mumbai', 'India', 'Fall')('London', 'United Kingdom', 'Winter')('London', 'United Kingdom', 'Fall')\n",
      "('Cairo', 'Egypt')('Mumbai', 'India')\n"
     ]
    }
   ],
   "source": [
    "import sqlite3\n",
    "db = sqlite3.connect('Data.db')\n",
    "db.execute('''CREATE TABLE IF NOT EXISTS seasonal_data(city text, \n",
    "                      country text, \n",
    "                      season integer, \n",
    "                      temperature integer,\n",
    "                      rainfall integer);''')\n",
    "db.commit()\n",
    "cur = db.cursor()\n",
    "db.execute(\"INSERT INTO seasonal_data VALUES('Mumbai', 'India', 'Winter', 24.8, 5.9);\")\n",
    "db.execute(\"INSERT INTO seasonal_data VALUES('Mumbai', 'India', 'Spring', 28.4, 16.2);\")\n",
    "db.execute(\"INSERT INTO seasonal_data VALUES('Mumbai', 'India', 'Summer', 27.9, 1549.4);\")\n",
    "db.execute(\"INSERT INTO seasonal_data VALUES('Mumbai', 'India', 'Fall', 27.6, 346.0);\")\n",
    "db.execute(\"INSERT INTO seasonal_data VALUES('London', 'United Kingdom', 'Winter', 4.2, 207.7);\")\n",
    "db.execute(\"INSERT INTO seasonal_data VALUES('London', 'United Kingdom', 'Spring', 8.3, 169.6 );\")\n",
    "db.execute(\"INSERT INTO seasonal_data VALUES('London', 'United Kingdom', 'Summer', 15.7, 157.0);\")\n",
    "db.execute(\"INSERT INTO seasonal_data VALUES('London', 'United Kingdom', 'Fall', 10.4, 218.5);\")\n",
    "db.execute(\"INSERT INTO seasonal_data VALUES('Cairo', 'Egypt', 'Winter', 13.6, 16.5);\")\n",
    "db.execute(\"INSERT INTO seasonal_data VALUES('Cairo', 'Egypt', 'Spring', 20.7, 6.5);\")\n",
    "db.execute(\"INSERT INTO seasonal_data VALUES('Cairo', 'Egypt', 'Summer', 27.7, 0.1);\")\n",
    "db.execute(\"INSERT INTO seasonal_data VALUES('Cairo', 'Egypt', 'Fall', 22.2, 4.5);\")\n",
    "\n",
    "cur.execute(\"SELECT temperature from seasonal_data\")\n",
    "my_result =cur.fetchall()             #part a\n",
    "for x in my_result:\n",
    "    print(x, end=\"\")\n",
    "\n",
    "print()\n",
    "cur.execute(\"SELECT DISTINCT(city) from seasonal_data\")\n",
    "my_result = cur.fetchall()\n",
    "for x in my_result:                          #part b\n",
    "    print(x, end=\"\")\n",
    "\n",
    "print()\n",
    "cur.execute(\"SELECT * from seasonal_data where country = 'India'\")\n",
    "my_result = cur.fetchall()\n",
    "for x in my_result:                             #part c\n",
    "    print(x, end=\"\")\n",
    "\n",
    "print()\n",
    "cur.execute(\"SELECT * from seasonal_data where season = 'Fall'\")\n",
    "my_result = cur.fetchall()\n",
    "for x in my_result:                             #part d\n",
    "    print(x, end=\"\")\n",
    "\n",
    "print()\n",
    "cur.execute(\"SELECT city,country,season from seasonal_data where rainfall BETWEEN 200 and 400\")\n",
    "my_result = cur.fetchall()\n",
    "for x in my_result:                                 #part e\n",
    "    print(x, end=\"\")\n",
    "\n",
    "print()\n",
    "cur.execute(\"SELECT city,country from seasonal_data where (season = 'Fall' and temperature > 20) Order BY temperature ASC \")\n",
    "my_result = cur.fetchall()\n",
    "for x in my_result:                                #part f\n",
    "    print(x, end=\"\")\n",
    "\n",
    "print()\n",
    "cur.execute(\"SELECT sum(rainfall) from seasonal_data where city = 'Cairo'\")\n",
    "cur.close()"
   ]
  },
  {
   "cell_type": "markdown",
   "id": "3815f0f4",
   "metadata": {},
   "source": [
    "# Question 9"
   ]
  },
  {
   "cell_type": "code",
   "execution_count": 55,
   "id": "7ee50f18",
   "metadata": {},
   "outputs": [
    {
     "name": "stdout",
     "output_type": "stream",
     "text": [
      "Ans a).  ['THE', 'QUICK', 'BROWN', 'FOX', 'JUMPS', 'OVER', 'THE', 'LAZY', 'DOG']\n",
      "\n",
      "\n",
      "Ans b).  ['the', 'quick', 'brown', 'fox', 'jumps', 'over', 'the', 'lazy', 'dog']\n",
      "\n",
      "\n",
      "Ans c).  [3, 5, 5, 3, 5, 4, 3, 4, 3]\n",
      "\n",
      "\n",
      "Ans d).  [['THE', 'the', 3], ['QUICK', 'quick', 5], ['BROWN', 'brown', 5], ['FOX', 'fox', 3], ['JUMPS', 'jumps', 5], ['OVER', 'over', 4], ['THE', 'the', 3], ['LAZY', 'lazy', 4], ['DOG', 'dog', 3]]\n",
      "\n",
      "\n",
      "Ans e).  ['quick', 'brown', 'jumps', 'over', 'lazy']\n"
     ]
    }
   ],
   "source": [
    "words = [\"The\", \"quick\", \"brown\", \"fox\", \"jumps\", \"over\", \"the\", \"lazy\", \"dog\"]\n",
    "\n",
    "#print(\"Ans a). \") \n",
    "\n",
    "#Convert words into upper case\n",
    "wordsUpper = [word.upper() for word in words]\n",
    "print(\"Ans a). \", wordsUpper)\n",
    "print(\"\\n\")\n",
    "\n",
    "\n",
    "#print(\"b\") \n",
    "#Convert words into lower case\n",
    "\n",
    "wordsLower = [word.lower() for word in words]\n",
    "print(\"Ans b). \",wordsLower)\n",
    "print(\"\\n\")\n",
    "\n",
    "\n",
    "#print(\"c\")\n",
    "\n",
    "#the list of length of words in list words\n",
    "wordsLength = []\n",
    "for w in words:\n",
    "    wordsLength.append(len(w))     \n",
    "print(\"Ans c). \", wordsLength)\n",
    "print(\"\\n\")\n",
    "\n",
    "\n",
    "#print(\"d\") \n",
    "\n",
    "#list contains the word in uppercase and lowercase and the length of the word\n",
    "initializeCounterValue = 0\n",
    "singleListArray = []\n",
    "    \n",
    "for j in words:\n",
    "    singleListArray.append(wordsUpper[initializeCounterValue])\n",
    "    singleListArray.append(wordsLower[initializeCounterValue])\n",
    "    singleListArray.append(wordsLength[initializeCounterValue])\n",
    "    initializeCounterValue = initializeCounterValue + 1\n",
    "\n",
    "delimiterVariableLimit = 3\n",
    "resultArray = [singleListArray[additor:additor+delimiterVariableLimit] for additor in range(0, len(singleListArray), delimiterVariableLimit)]\n",
    "print(\"Ans d). \",resultArray)\n",
    "print(\"\\n\")\n",
    "\n",
    "#print(\"e\")\n",
    "\n",
    "#the list of words containing 4 or more characters\n",
    "def wordString(k, str):    \n",
    "    string = []     \n",
    "    text = str.split(\" \")     \n",
    "    for x in text:         \n",
    "        if len(x) >= k:            \n",
    "            string.append(x)             \n",
    "    return string\n",
    "    \n",
    "result_list = [''.join([str(c) for c in lst]) for lst in words]\n",
    "result_string = ' '.join(result_list)\n",
    "requiredCharacterLength = 4\n",
    "print(\"Ans e). \",wordString(requiredCharacterLength, result_string))"
   ]
  },
  {
   "cell_type": "code",
   "execution_count": null,
   "id": "740a010a",
   "metadata": {},
   "outputs": [],
   "source": []
  }
 ],
 "metadata": {
  "kernelspec": {
   "display_name": "Python 3 (ipykernel)",
   "language": "python",
   "name": "python3"
  },
  "language_info": {
   "codemirror_mode": {
    "name": "ipython",
    "version": 3
   },
   "file_extension": ".py",
   "mimetype": "text/x-python",
   "name": "python",
   "nbconvert_exporter": "python",
   "pygments_lexer": "ipython3",
   "version": "3.9.12"
  }
 },
 "nbformat": 4,
 "nbformat_minor": 5
}
